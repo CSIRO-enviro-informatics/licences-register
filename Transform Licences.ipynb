{
 "cells": [
  {
   "cell_type": "markdown",
   "metadata": {},
   "source": []
  },
  {
   "cell_type": "code",
   "execution_count": 30,
   "metadata": {},
   "outputs": [],
   "source": [
    "import requests, json\n",
    "\n",
    "r = requests.get('https://raw.githubusercontent.com/CSIRO-enviro-informatics/licences-register/master/licences.json')"
   ]
  },
  {
   "cell_type": "code",
   "execution_count": 31,
   "metadata": {},
   "outputs": [],
   "source": [
    "licence_json = json.loads(r.text)"
   ]
  },
  {
   "cell_type": "code",
   "execution_count": 32,
   "metadata": {},
   "outputs": [],
   "source": [
    "new_json = []\n",
    "for key in licence_json.keys():\n",
    "    obj = {}\n",
    "    #obj[\"@context\"] =  {\n",
    "    #  \"dc\": \"http://www.w3.org/2002/12/cal/ical#\",\n",
    "    #  \"skos\": \"http://www.w3.org/2001/XMLSchema#\"\n",
    "    #  }\n",
    "    obj['prefLabel'] = key\n",
    "    obj['notation'] = licence_json[key]\n",
    "    obj['seeAlso'] = ''\n",
    "\n",
    "    new_json.append(obj)"
   ]
  },
  {
   "cell_type": "code",
   "execution_count": 25,
   "metadata": {},
   "outputs": [],
   "source": [
    "with open('licences.json', 'w') as outfile:\n",
    "    json.dump(new_json, outfile, indent=4)"
   ]
  },
  {
   "cell_type": "code",
   "execution_count": 28,
   "metadata": {},
   "outputs": [],
   "source": [
    "idxByNotation = {}\n",
    "idxByPrefLabel = {}\n",
    "for item in new_json:\n",
    "    idxByNotation[item['notation']] = item\n",
    "    idxByPrefLabel[item['prefLabel']] = item\n",
    "        \n"
   ]
  },
  {
   "cell_type": "code",
   "execution_count": 29,
   "metadata": {},
   "outputs": [],
   "source": [
    "with open('idxByNotation.json', 'w') as outfile:\n",
    "    json.dump(idxByNotation, outfile, indent=4)\n",
    "with open('idxByPrefLabel.json', 'w') as outfile:\n",
    "    json.dump(idxByPrefLabel, outfile, indent=4)"
   ]
  },
  {
   "cell_type": "code",
   "execution_count": null,
   "metadata": {},
   "outputs": [],
   "source": []
  }
 ],
 "metadata": {
  "kernelspec": {
   "display_name": "Environment (conda_py35)",
   "language": "python",
   "name": "conda_py35"
  },
  "language_info": {
   "codemirror_mode": {
    "name": "ipython",
    "version": 3
   },
   "file_extension": ".py",
   "mimetype": "text/x-python",
   "name": "python",
   "nbconvert_exporter": "python",
   "pygments_lexer": "ipython3",
   "version": "3.5.5"
  }
 },
 "nbformat": 4,
 "nbformat_minor": 2
}
